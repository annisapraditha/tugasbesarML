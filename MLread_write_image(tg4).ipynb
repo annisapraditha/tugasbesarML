{
  "nbformat": 4,
  "nbformat_minor": 0,
  "metadata": {
    "colab": {
      "name": "MLread_write_image(tg4).ipynb",
      "provenance": [],
      "authorship_tag": "ABX9TyPm/Itpl+pBha7nzT7AKwtS",
      "include_colab_link": true
    },
    "kernelspec": {
      "name": "python3",
      "display_name": "Python 3"
    },
    "language_info": {
      "name": "python"
    }
  },
  "cells": [
    {
      "cell_type": "markdown",
      "metadata": {
        "id": "view-in-github",
        "colab_type": "text"
      },
      "source": [
        "<a href=\"https://colab.research.google.com/github/annisapraditha/tugasbesarML/blob/main/MLread_write_image(tg4).ipynb\" target=\"_parent\"><img src=\"https://colab.research.google.com/assets/colab-badge.svg\" alt=\"Open In Colab\"/></a>"
      ]
    },
    {
      "cell_type": "code",
      "metadata": {
        "id": "URcltHOjYX-W"
      },
      "source": [
        "from google.colab import drive #buat loot drive\n",
        "drive.mount('/content/drive')"
      ],
      "execution_count": null,
      "outputs": []
    },
    {
      "cell_type": "code",
      "metadata": {
        "id": "PCGtUJglYYeM"
      },
      "source": [
        "# import the necessary packages\n",
        "from matplotlib import pyplot as plt\n",
        "import argparse\n",
        "import cv2"
      ],
      "execution_count": null,
      "outputs": []
    },
    {
      "cell_type": "code",
      "metadata": {
        "id": "C7THa-9bYYgf"
      },
      "source": [
        "def plt_imshow(title, image):\n",
        "\t# convert the image frame BGR to RGB color space and display it\n",
        "\timage = cv2.cvtColor(image, cv2.COLOR_BGR2RGB)\n",
        "\tplt.imshow(image)\n",
        "\tplt.title(title)\n",
        "\tplt.grid(False)\n",
        "\tplt.show()"
      ],
      "execution_count": null,
      "outputs": []
    },
    {
      "cell_type": "code",
      "metadata": {
        "id": "44y9boMLYYjE"
      },
      "source": [
        "cd drive/MyDrive/"
      ],
      "execution_count": null,
      "outputs": []
    },
    {
      "cell_type": "code",
      "metadata": {
        "id": "FLXR4hgDYYlC"
      },
      "source": [
        "# construct the argument parser and parse the arguments\n",
        "#ap = argparse.ArgumentParser()\n",
        "#ap.add_argument(\"-i\", \"--image\", required=True,\n",
        "#    help=\"path to input image\")\n",
        "#args = vars(ap.parse_args())\n",
        "\n",
        "# since we are using Jupyter Notebooks we can replace our argument\n",
        "# parsing code with *hard coded* arguments and values\n",
        "args = {\n",
        "\t\"image\": \"Skinle2.jpg\",\n",
        "}"
      ],
      "execution_count": null,
      "outputs": []
    },
    {
      "cell_type": "code",
      "metadata": {
        "id": "6KxPOEj6YYnC"
      },
      "source": [
        "# load the image from disk via \"cv2.imread\" and then grab the spatial\n",
        "# dimensions, including width, height, and number of channels\n",
        "image = cv2.imread(args[\"image\"])\n",
        "(h, w, c) = image.shape[:3]\n",
        "\n",
        "# display the image width, height, and number of channels to our\n",
        "# terminal\n",
        "print(\"width: {} pixels\".format(image.shape[1]))\n",
        "print(\"height: {}  pixels\".format(image.shape[0]))\n",
        "print(\"channels: {}\".format(image.shape[2]))"
      ],
      "execution_count": null,
      "outputs": []
    },
    {
      "cell_type": "code",
      "metadata": {
        "id": "gP1tjkf_YYo9"
      },
      "source": [
        "# show the image and wait for a keypress\n",
        "plt_imshow(\"Image\", image)\n",
        "\n",
        "# save the image back to disk (OpenCV handles converting image\n",
        "# filetypes automatically)\n",
        "cv2.imwrite(\"skinle_new.jpg\", image)"
      ],
      "execution_count": null,
      "outputs": []
    },
    {
      "cell_type": "code",
      "metadata": {
        "id": "cSTZN5TJYYq1"
      },
      "source": [
        ""
      ],
      "execution_count": null,
      "outputs": []
    }
  ]
}