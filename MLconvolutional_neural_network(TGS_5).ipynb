{
  "nbformat": 4,
  "nbformat_minor": 0,
  "metadata": {
    "colab": {
      "name": "MLconvolutional_neural_network(TGS 5).ipynb",
      "provenance": [],
      "authorship_tag": "ABX9TyPKTGKS2XEUZRgBn6g5iTnQ",
      "include_colab_link": true
    },
    "kernelspec": {
      "name": "python3",
      "display_name": "Python 3"
    },
    "language_info": {
      "name": "python"
    },
    "accelerator": "GPU"
  },
  "cells": [
    {
      "cell_type": "markdown",
      "metadata": {
        "id": "view-in-github",
        "colab_type": "text"
      },
      "source": [
        "<a href=\"https://colab.research.google.com/github/annisapraditha/tugasbesarML/blob/main/MLconvolutional_neural_network(TGS_5).ipynb\" target=\"_parent\"><img src=\"https://colab.research.google.com/assets/colab-badge.svg\" alt=\"Open In Colab\"/></a>"
      ]
    },
    {
      "cell_type": "code",
      "metadata": {
        "colab": {
          "base_uri": "https://localhost:8080/"
        },
        "id": "olwIqJye9B2v",
        "outputId": "45567df8-73f9-4c2a-beb9-c4d829ebcbed"
      },
      "source": [
        "from google.colab import drive #buat loot drive\n",
        "drive.mount('/content/drive')"
      ],
      "execution_count": 1,
      "outputs": [
        {
          "output_type": "stream",
          "name": "stdout",
          "text": [
            "Mounted at /content/drive\n"
          ]
        }
      ]
    },
    {
      "cell_type": "code",
      "metadata": {
        "id": "FpsYFWaT9uSB"
      },
      "source": [
        "import os\n",
        "import zipfile\n",
        "\n",
        "local_zip = '/content/drive/MyDrive/ml/chest_xray.zip'\n",
        "zip_ref = zipfile.ZipFile(local_zip, 'r')\n",
        "zip_ref.extractall('/tmp')\n",
        "zip_ref.close()"
      ],
      "execution_count": 2,
      "outputs": []
    },
    {
      "cell_type": "code",
      "metadata": {
        "id": "0yOKVn0N9uVp"
      },
      "source": [
        "# Definisikan path untuk data train dan data validation\n",
        "\n",
        "base_dir = '/tmp/chest_xray'\n",
        "\n",
        "\n",
        "test_dir = os.path.join(base_dir, 'test')\n",
        "train_dir = os.path.join(base_dir, 'train')\n",
        "\n",
        "test_NORMAL_dir = os.path.join(test_dir, 'NORMAL')\n",
        "test_PNEUMONIA_dir = os.path.join(test_dir, 'PNEUMONIA')\n",
        "\n",
        "train_NORMAL_dir = os.path.join(train_dir, 'NORMAL')\n",
        "train_PNEUMONIA_dir = os.path.join(train_dir, 'PNEUMONIA')"
      ],
      "execution_count": 3,
      "outputs": []
    },
    {
      "cell_type": "code",
      "metadata": {
        "id": "rBE6x3xJ9uYc"
      },
      "source": [
        "import cv2\n",
        "import numpy as np\n",
        "\n",
        "# Gather data test\n",
        "test_data = []\n",
        "test_label = []\n",
        "for r, d, f in os.walk(test_dir):\n",
        "    for file in f:\n",
        "        if \".jpeg\" in file:\n",
        "            imagePath = os.path.join(r, file)\n",
        "            image = cv2.imread(imagePath)\n",
        "            image = cv2.resize(image, (150,150))\n",
        "            test_data.append(image)\n",
        "            label = imagePath.split(os.path.sep)[-2]\n",
        "            test_label.append(label)\n",
        "\n",
        "test_data = np.array(test_data)\n",
        "test_label = np.array(test_label)"
      ],
      "execution_count": 4,
      "outputs": []
    },
    {
      "cell_type": "code",
      "metadata": {
        "id": "L3DttCrS9ubD"
      },
      "source": [
        "# Gather data validation\n",
        "train_data = []\n",
        "train_label = []\n",
        "for r, d, f in os.walk(train_dir):\n",
        "    for file in f:\n",
        "        if \".jpeg\" in file:\n",
        "            imagePath = os.path.join(r, file)\n",
        "            image = cv2.imread(imagePath)\n",
        "            image = cv2.resize(image, (150,150))\n",
        "            train_data.append(image)\n",
        "            label = imagePath.split(os.path.sep)[-2]\n",
        "            train_label.append(label)\n",
        "\n",
        "train_data = np.array(train_data)\n",
        "train_label = np.array(train_label)"
      ],
      "execution_count": 5,
      "outputs": []
    },
    {
      "cell_type": "markdown",
      "metadata": {
        "id": "ExwdCPShEzIt"
      },
      "source": [
        "Data Preprocessing"
      ]
    },
    {
      "cell_type": "code",
      "metadata": {
        "colab": {
          "base_uri": "https://localhost:8080/"
        },
        "id": "QgK-53Ev9ud9",
        "outputId": "6a3f03d8-882e-4a6a-cb3b-cc8455147c6d"
      },
      "source": [
        "# Tampilkan shape dari data train dan data validation\n",
        "print(\"Test Data = \", test_data.shape)\n",
        "print(\"Test Label = \", test_label.shape)\n",
        "print(\"Train Data = \", train_data.shape)\n",
        "print(\"Train Label = \", train_label.shape)"
      ],
      "execution_count": 6,
      "outputs": [
        {
          "output_type": "stream",
          "name": "stdout",
          "text": [
            "Test Data =  (624, 150, 150, 3)\n",
            "Test Label =  (624,)\n",
            "Train Data =  (5232, 150, 150, 3)\n",
            "Train Label =  (5232,)\n"
          ]
        }
      ]
    },
    {
      "cell_type": "code",
      "metadata": {
        "colab": {
          "base_uri": "https://localhost:8080/"
        },
        "id": "mN9lthNT9ug8",
        "outputId": "5ae0e11d-5183-49a0-ad45-d640682bba78"
      },
      "source": [
        "# Normalisasi dataset\n",
        "print(\"Data sebelum di-normalisasi \", test_data[0][0][0])\n",
        "\n",
        "x_test = test_data.astype('float32') / 255.0\n",
        "x_train = train_data.astype('float32') / 255.0\n",
        "print(\"Data setelah di-normalisasi \", x_test[0][0][0])"
      ],
      "execution_count": 7,
      "outputs": [
        {
          "output_type": "stream",
          "name": "stdout",
          "text": [
            "Data sebelum di-normalisasi  [57 57 57]\n",
            "Data setelah di-normalisasi  [0.22352941 0.22352941 0.22352941]\n"
          ]
        }
      ]
    },
    {
      "cell_type": "code",
      "metadata": {
        "colab": {
          "base_uri": "https://localhost:8080/"
        },
        "id": "YM3gkn7p9ujF",
        "outputId": "ba7363aa-2072-44cc-cb89-be891aa97e78"
      },
      "source": [
        "# Transformasi label encoder\n",
        "from sklearn.preprocessing import LabelEncoder\n",
        "\n",
        "print(\"Label sebelum di-encoder \", test_label[100:110])\n",
        "\n",
        "lb = LabelEncoder()\n",
        "y_test = lb.fit_transform(test_label)\n",
        "y_train = lb.fit_transform(train_label)\n",
        "\n",
        "print(\"Label setelah di-encoder \", y_test[100:110])"
      ],
      "execution_count": 8,
      "outputs": [
        {
          "output_type": "stream",
          "name": "stdout",
          "text": [
            "Label sebelum di-encoder  ['PNEUMONIA' 'PNEUMONIA' 'PNEUMONIA' 'PNEUMONIA' 'PNEUMONIA' 'PNEUMONIA'\n",
            " 'PNEUMONIA' 'PNEUMONIA' 'PNEUMONIA' 'PNEUMONIA']\n",
            "Label setelah di-encoder  [1 1 1 1 1 1 1 1 1 1]\n"
          ]
        }
      ]
    },
    {
      "cell_type": "markdown",
      "metadata": {
        "id": "GclczzpBFAj3"
      },
      "source": [
        "Definisikan Model"
      ]
    },
    {
      "cell_type": "code",
      "metadata": {
        "id": "g4JvlGpFE9sX"
      },
      "source": [
        "from tensorflow.keras.models import Sequential\n",
        "from tensorflow.keras.layers import InputLayer, Dense, Conv2D, MaxPool2D, Flatten"
      ],
      "execution_count": 9,
      "outputs": []
    },
    {
      "cell_type": "code",
      "metadata": {
        "id": "kiszLSth9uli"
      },
      "source": [
        "# Feature Extraction Layer\n",
        "model = Sequential()\n",
        "\n",
        "model.add(InputLayer(input_shape=[150,150,3]))\n",
        "model.add(Conv2D(filters=16, kernel_size=3, strides=1, padding='same', activation='relu'))\n",
        "model.add(MaxPool2D(pool_size=2, padding='same'))\n",
        "model.add(Conv2D(filters=32, kernel_size=3, strides=1, padding='same', activation='relu'))\n",
        "model.add(MaxPool2D(pool_size=2, padding='same'))\n",
        "model.add(Conv2D(filters=64, kernel_size=3, strides=1, padding='same', activation='relu'))\n",
        "model.add(MaxPool2D(pool_size=2, padding='same'))\n",
        "model.add(Flatten())"
      ],
      "execution_count": 10,
      "outputs": []
    },
    {
      "cell_type": "code",
      "metadata": {
        "id": "kSwRR_hF9un_"
      },
      "source": [
        "# Fully Connected Layer\n",
        "model.add(Dense(128, activation='relu'))\n",
        "model.add(Dense(1, activation='sigmoid'))"
      ],
      "execution_count": 11,
      "outputs": []
    },
    {
      "cell_type": "code",
      "metadata": {
        "colab": {
          "base_uri": "https://localhost:8080/"
        },
        "id": "nwQ28K6T_J8x",
        "outputId": "38109f95-6de7-4efe-9904-24e44c866d1a"
      },
      "source": [
        "# Print model summary\n",
        "print(model.summary())"
      ],
      "execution_count": 12,
      "outputs": [
        {
          "output_type": "stream",
          "name": "stdout",
          "text": [
            "Model: \"sequential\"\n",
            "_________________________________________________________________\n",
            " Layer (type)                Output Shape              Param #   \n",
            "=================================================================\n",
            " conv2d (Conv2D)             (None, 150, 150, 16)      448       \n",
            "                                                                 \n",
            " max_pooling2d (MaxPooling2D  (None, 75, 75, 16)       0         \n",
            " )                                                               \n",
            "                                                                 \n",
            " conv2d_1 (Conv2D)           (None, 75, 75, 32)        4640      \n",
            "                                                                 \n",
            " max_pooling2d_1 (MaxPooling  (None, 38, 38, 32)       0         \n",
            " 2D)                                                             \n",
            "                                                                 \n",
            " conv2d_2 (Conv2D)           (None, 38, 38, 64)        18496     \n",
            "                                                                 \n",
            " max_pooling2d_2 (MaxPooling  (None, 19, 19, 64)       0         \n",
            " 2D)                                                             \n",
            "                                                                 \n",
            " flatten (Flatten)           (None, 23104)             0         \n",
            "                                                                 \n",
            " dense (Dense)               (None, 128)               2957440   \n",
            "                                                                 \n",
            " dense_1 (Dense)             (None, 1)                 129       \n",
            "                                                                 \n",
            "=================================================================\n",
            "Total params: 2,981,153\n",
            "Trainable params: 2,981,153\n",
            "Non-trainable params: 0\n",
            "_________________________________________________________________\n",
            "None\n"
          ]
        }
      ]
    },
    {
      "cell_type": "code",
      "metadata": {
        "colab": {
          "base_uri": "https://localhost:8080/"
        },
        "id": "nDYczPLU_KAO",
        "outputId": "df64895f-ac2e-43dd-dadf-a1054273798a"
      },
      "source": [
        "# Compile model\n",
        "from tensorflow.keras.optimizers import Adam\n",
        "\n",
        "model.compile(optimizer=Adam(lr=0.001), \n",
        "              loss='binary_crossentropy', \n",
        "              metrics=['acc'])"
      ],
      "execution_count": 13,
      "outputs": [
        {
          "output_type": "stream",
          "name": "stderr",
          "text": [
            "/usr/local/lib/python3.7/dist-packages/keras/optimizer_v2/adam.py:105: UserWarning: The `lr` argument is deprecated, use `learning_rate` instead.\n",
            "  super(Adam, self).__init__(name, **kwargs)\n"
          ]
        }
      ]
    },
    {
      "cell_type": "markdown",
      "metadata": {
        "id": "kotJmCi9FFM0"
      },
      "source": [
        "Training Model"
      ]
    },
    {
      "cell_type": "code",
      "metadata": {
        "colab": {
          "base_uri": "https://localhost:8080/"
        },
        "id": "6RxZnSWi_KGg",
        "outputId": "62f6f5e2-086d-4db9-d2d9-06e91dcdd928"
      },
      "source": [
        "H = model.fit(x_test, y_test, batch_size=20, epochs=15, validation_data=(x_train, y_train))"
      ],
      "execution_count": 14,
      "outputs": [
        {
          "output_type": "stream",
          "name": "stdout",
          "text": [
            "Epoch 1/15\n",
            "32/32 [==============================] - 35s 144ms/step - loss: 0.6387 - acc: 0.6218 - val_loss: 0.3783 - val_acc: 0.8536\n",
            "Epoch 2/15\n",
            "32/32 [==============================] - 3s 90ms/step - loss: 0.3023 - acc: 0.8814 - val_loss: 0.4024 - val_acc: 0.8438\n",
            "Epoch 3/15\n",
            "32/32 [==============================] - 3s 90ms/step - loss: 0.2224 - acc: 0.9167 - val_loss: 0.6914 - val_acc: 0.7026\n",
            "Epoch 4/15\n",
            "32/32 [==============================] - 3s 88ms/step - loss: 0.2222 - acc: 0.9087 - val_loss: 0.3582 - val_acc: 0.8578\n",
            "Epoch 5/15\n",
            "32/32 [==============================] - 3s 89ms/step - loss: 0.1391 - acc: 0.9439 - val_loss: 0.3708 - val_acc: 0.8635\n",
            "Epoch 6/15\n",
            "32/32 [==============================] - 3s 89ms/step - loss: 0.1008 - acc: 0.9615 - val_loss: 0.3151 - val_acc: 0.8807\n",
            "Epoch 7/15\n",
            "32/32 [==============================] - 3s 89ms/step - loss: 0.1740 - acc: 0.9375 - val_loss: 0.3282 - val_acc: 0.8756\n",
            "Epoch 8/15\n",
            "32/32 [==============================] - 3s 89ms/step - loss: 0.0839 - acc: 0.9712 - val_loss: 0.5844 - val_acc: 0.8167\n",
            "Epoch 9/15\n",
            "32/32 [==============================] - 3s 89ms/step - loss: 0.0886 - acc: 0.9615 - val_loss: 0.3412 - val_acc: 0.8685\n",
            "Epoch 10/15\n",
            "32/32 [==============================] - 3s 88ms/step - loss: 0.0568 - acc: 0.9856 - val_loss: 0.4318 - val_acc: 0.8419\n",
            "Epoch 11/15\n",
            "32/32 [==============================] - 3s 89ms/step - loss: 0.0350 - acc: 0.9872 - val_loss: 0.5375 - val_acc: 0.8631\n",
            "Epoch 12/15\n",
            "32/32 [==============================] - 3s 89ms/step - loss: 0.0220 - acc: 0.9952 - val_loss: 0.7231 - val_acc: 0.8274\n",
            "Epoch 13/15\n",
            "32/32 [==============================] - 3s 88ms/step - loss: 0.0133 - acc: 0.9968 - val_loss: 0.7494 - val_acc: 0.8259\n",
            "Epoch 14/15\n",
            "32/32 [==============================] - 3s 89ms/step - loss: 0.0180 - acc: 0.9936 - val_loss: 0.5356 - val_acc: 0.8616\n",
            "Epoch 15/15\n",
            "32/32 [==============================] - 3s 89ms/step - loss: 0.0065 - acc: 0.9984 - val_loss: 0.5749 - val_acc: 0.8679\n"
          ]
        }
      ]
    },
    {
      "cell_type": "markdown",
      "metadata": {
        "id": "5BoKKDprFIB_"
      },
      "source": [
        "Evaluasi Model"
      ]
    },
    {
      "cell_type": "code",
      "metadata": {
        "colab": {
          "base_uri": "https://localhost:8080/",
          "height": 299
        },
        "id": "T8ykmOHc_KKF",
        "outputId": "bf28ee69-f7e6-4cd1-9186-273db5764652"
      },
      "source": [
        "%matplotlib inline\n",
        "\n",
        "import matplotlib.pyplot as plt\n",
        "\n",
        "plt.style.use(\"ggplot\")\n",
        "plt.figure()\n",
        "plt.plot(np.arange(0, 15), H.history[\"loss\"], label=\"train_loss\")\n",
        "plt.plot(np.arange(0, 15), H.history[\"val_loss\"], label=\"val_loss\")\n",
        "plt.title(\"Loss Plot\")\n",
        "plt.xlabel(\"Epoch #\")\n",
        "plt.ylabel(\"Loss\")\n",
        "plt.legend()\n",
        "plt.show()"
      ],
      "execution_count": 15,
      "outputs": [
        {
          "output_type": "display_data",
          "data": {
            "image/png": "[encoded data removed]",
            "text/plain": [
              "<Figure size 432x288 with 1 Axes>"
            ]
          },
          "metadata": {}
        }
      ]
    },
    {
      "cell_type": "code",
      "metadata": {
        "colab": {
          "base_uri": "https://localhost:8080/",
          "height": 299
        },
        "id": "uNU5nTK2_RDq",
        "outputId": "971a170c-1f0e-40df-fbff-103fc898ad06"
      },
      "source": [
        "plt.style.use(\"ggplot\")\n",
        "plt.figure()\n",
        "plt.plot(np.arange(0, 15), H.history[\"acc\"], label=\"train_acc\")\n",
        "plt.plot(np.arange(0, 15), H.history[\"val_acc\"], label=\"val_acc\")\n",
        "plt.title(\"Accuracy Plot\")\n",
        "plt.xlabel(\"Epoch #\")\n",
        "plt.ylabel(\"Acc\")\n",
        "plt.legend()\n",
        "plt.show()"
      ],
      "execution_count": 16,
      "outputs": [
        {
          "output_type": "display_data",
          "data": {
            "image/png": "[encoded data removed]",
            "text/plain": [
              "<Figure size 432x288 with 1 Axes>"
            ]
          },
          "metadata": {}
        }
      ]
    },
    {
      "cell_type": "code",
      "metadata": {
        "colab": {
          "base_uri": "https://localhost:8080/"
        },
        "id": "xFu0Bz6D_RG0",
        "outputId": "f81cbc58-dee4-4962-e7ac-8a97ed1cac35"
      },
      "source": [
        "from sklearn.metrics import classification_report\n",
        "\n",
        "pred = model.predict(x_train)\n",
        "labels = (pred > 0.5).astype(np.int)\n",
        "\n",
        "print(classification_report(y_train, labels))"
      ],
      "execution_count": 19,
      "outputs": [
        {
          "output_type": "stream",
          "name": "stdout",
          "text": [
            "              precision    recall  f1-score   support\n",
            "\n",
            "           0       0.69      0.89      0.78      1349\n",
            "           1       0.96      0.86      0.91      3883\n",
            "\n",
            "    accuracy                           0.87      5232\n",
            "   macro avg       0.82      0.87      0.84      5232\n",
            "weighted avg       0.89      0.87      0.87      5232\n",
            "\n"
          ]
        }
      ]
    },
    {
      "cell_type": "code",
      "metadata": {
        "id": "tv2tVm-s_RKW"
      },
      "source": [
        ""
      ],
      "execution_count": null,
      "outputs": []
    },
    {
      "cell_type": "code",
      "metadata": {
        "id": "70UIbfjLWmnZ"
      },
      "source": [
        ""
      ],
      "execution_count": null,
      "outputs": []
    }
  ]
}